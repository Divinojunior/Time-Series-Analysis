{
 "cells": [
  {
   "cell_type": "markdown",
   "metadata": {},
   "source": [
    "##### PROJETO INTEGRADOR  |  PREVISÃO DE DEMANDA  |   VENDAS AUTOPEÇAS (GRUPO 100 VIES)\n"
   ]
  },
  {
   "cell_type": "markdown",
   "metadata": {
    "heading_collapsed": true
   },
   "source": [
    "# IMPORTANDO BIBLIOTECAS"
   ]
  },
  {
   "cell_type": "code",
   "execution_count": 150,
   "metadata": {
    "ExecuteTime": {
     "end_time": "2020-02-05T04:16:48.545677Z",
     "start_time": "2020-02-05T04:16:48.530974Z"
    },
    "code_folding": [],
    "hidden": true
   },
   "outputs": [],
   "source": [
    "#IMPORTANDO BIBLIOTECAS\n",
    "import warnings\n",
    "warnings.simplefilter(action='ignore', category=FutureWarning)\n",
    "\n",
    "import matplotlib.pyplot as plt\n",
    "from sklearn import metrics\n",
    "from sklearn.model_selection import train_test_split\n",
    "import pandas as pd\n",
    "import matplotlib.pyplot as plt\n",
    "import seaborn as sns\n",
    "import numpy as np\n",
    "import plotly\n",
    "import os\n",
    "import janitor\n",
    "\n",
    "\n",
    "from sklearn.metrics import mean_squared_log_error\n",
    "from sklearn.ensemble import RandomForestRegressor\n",
    "from lightgbm import LGBMRegressor\n",
    "#from imblearn.over_sampling import SMOTE\n",
    "\n",
    "pd.set_option('display.max_rows', None)\n",
    "params = {'legend.fontsize': 'x-large',\n",
    "          'figure.figsize': (16, 8),\n",
    "          'axes.labelsize': 'x-large',\n",
    "          'axes.titlesize':'x-large',\n",
    "          'xtick.labelsize':'x-large',\n",
    "          'ytick.labelsize':'x-large'}\n",
    "\n",
    "%matplotlib inline\n",
    "plt.rcParams.update(params)"
   ]
  },
  {
   "cell_type": "code",
   "execution_count": 29,
   "metadata": {
    "ExecuteTime": {
     "end_time": "2020-02-04T23:35:04.467585Z",
     "start_time": "2020-02-04T23:35:04.463719Z"
    },
    "hidden": true
   },
   "outputs": [],
   "source": [
    "import plotly_express as px"
   ]
  },
  {
   "cell_type": "markdown",
   "metadata": {
    "heading_collapsed": true
   },
   "source": [
    "# IMPORTANDO O .CSV DE VENDAS"
   ]
  },
  {
   "cell_type": "code",
   "execution_count": 187,
   "metadata": {
    "ExecuteTime": {
     "end_time": "2020-02-05T04:43:38.026869Z",
     "start_time": "2020-02-05T04:43:37.990727Z"
    },
    "hidden": true
   },
   "outputs": [
    {
     "data": {
      "text/html": [
       "<div>\n",
       "<style scoped>\n",
       "    .dataframe tbody tr th:only-of-type {\n",
       "        vertical-align: middle;\n",
       "    }\n",
       "\n",
       "    .dataframe tbody tr th {\n",
       "        vertical-align: top;\n",
       "    }\n",
       "\n",
       "    .dataframe thead th {\n",
       "        text-align: right;\n",
       "    }\n",
       "</style>\n",
       "<table border=\"1\" class=\"dataframe\">\n",
       "  <thead>\n",
       "    <tr style=\"text-align: right;\">\n",
       "      <th></th>\n",
       "      <th>Codigo</th>\n",
       "      <th>0</th>\n",
       "      <th>1</th>\n",
       "      <th>2</th>\n",
       "      <th>3</th>\n",
       "      <th>4</th>\n",
       "      <th>5</th>\n",
       "      <th>6</th>\n",
       "      <th>7</th>\n",
       "      <th>8</th>\n",
       "      <th>...</th>\n",
       "      <th>99</th>\n",
       "      <th>100</th>\n",
       "      <th>101</th>\n",
       "      <th>102</th>\n",
       "      <th>103</th>\n",
       "      <th>104</th>\n",
       "      <th>105</th>\n",
       "      <th>106</th>\n",
       "      <th>107</th>\n",
       "      <th>108</th>\n",
       "    </tr>\n",
       "  </thead>\n",
       "  <tbody>\n",
       "    <tr>\n",
       "      <td>0</td>\n",
       "      <td>1</td>\n",
       "      <td>0</td>\n",
       "      <td>0</td>\n",
       "      <td>0</td>\n",
       "      <td>0</td>\n",
       "      <td>0</td>\n",
       "      <td>2</td>\n",
       "      <td>2</td>\n",
       "      <td>4</td>\n",
       "      <td>2</td>\n",
       "      <td>...</td>\n",
       "      <td>9</td>\n",
       "      <td>10</td>\n",
       "      <td>8</td>\n",
       "      <td>8</td>\n",
       "      <td>10</td>\n",
       "      <td>0</td>\n",
       "      <td>6</td>\n",
       "      <td>10</td>\n",
       "      <td>6</td>\n",
       "      <td>2</td>\n",
       "    </tr>\n",
       "    <tr>\n",
       "      <td>1</td>\n",
       "      <td>2</td>\n",
       "      <td>0</td>\n",
       "      <td>0</td>\n",
       "      <td>0</td>\n",
       "      <td>0</td>\n",
       "      <td>0</td>\n",
       "      <td>0</td>\n",
       "      <td>0</td>\n",
       "      <td>4</td>\n",
       "      <td>2</td>\n",
       "      <td>...</td>\n",
       "      <td>5</td>\n",
       "      <td>8</td>\n",
       "      <td>2</td>\n",
       "      <td>6</td>\n",
       "      <td>10</td>\n",
       "      <td>0</td>\n",
       "      <td>4</td>\n",
       "      <td>6</td>\n",
       "      <td>4</td>\n",
       "      <td>8</td>\n",
       "    </tr>\n",
       "    <tr>\n",
       "      <td>2</td>\n",
       "      <td>3</td>\n",
       "      <td>0</td>\n",
       "      <td>0</td>\n",
       "      <td>0</td>\n",
       "      <td>0</td>\n",
       "      <td>0</td>\n",
       "      <td>0</td>\n",
       "      <td>0</td>\n",
       "      <td>0</td>\n",
       "      <td>0</td>\n",
       "      <td>...</td>\n",
       "      <td>5</td>\n",
       "      <td>0</td>\n",
       "      <td>0</td>\n",
       "      <td>4</td>\n",
       "      <td>4</td>\n",
       "      <td>0</td>\n",
       "      <td>0</td>\n",
       "      <td>10</td>\n",
       "      <td>6</td>\n",
       "      <td>2</td>\n",
       "    </tr>\n",
       "    <tr>\n",
       "      <td>3</td>\n",
       "      <td>4</td>\n",
       "      <td>0</td>\n",
       "      <td>0</td>\n",
       "      <td>0</td>\n",
       "      <td>0</td>\n",
       "      <td>0</td>\n",
       "      <td>0</td>\n",
       "      <td>0</td>\n",
       "      <td>0</td>\n",
       "      <td>0</td>\n",
       "      <td>...</td>\n",
       "      <td>2</td>\n",
       "      <td>0</td>\n",
       "      <td>0</td>\n",
       "      <td>0</td>\n",
       "      <td>4</td>\n",
       "      <td>0</td>\n",
       "      <td>0</td>\n",
       "      <td>4</td>\n",
       "      <td>6</td>\n",
       "      <td>0</td>\n",
       "    </tr>\n",
       "    <tr>\n",
       "      <td>4</td>\n",
       "      <td>5</td>\n",
       "      <td>0</td>\n",
       "      <td>0</td>\n",
       "      <td>0</td>\n",
       "      <td>0</td>\n",
       "      <td>0</td>\n",
       "      <td>0</td>\n",
       "      <td>5</td>\n",
       "      <td>0</td>\n",
       "      <td>2</td>\n",
       "      <td>...</td>\n",
       "      <td>13</td>\n",
       "      <td>25</td>\n",
       "      <td>30</td>\n",
       "      <td>6</td>\n",
       "      <td>0</td>\n",
       "      <td>0</td>\n",
       "      <td>0</td>\n",
       "      <td>17</td>\n",
       "      <td>10</td>\n",
       "      <td>0</td>\n",
       "    </tr>\n",
       "  </tbody>\n",
       "</table>\n",
       "<p>5 rows × 110 columns</p>\n",
       "</div>"
      ],
      "text/plain": [
       "   Codigo  0  1  2  3  4  5  6  7  8  ...  99  100  101  102  103  104  105  \\\n",
       "0       1  0  0  0  0  0  2  2  4  2  ...   9   10    8    8   10    0    6   \n",
       "1       2  0  0  0  0  0  0  0  4  2  ...   5    8    2    6   10    0    4   \n",
       "2       3  0  0  0  0  0  0  0  0  0  ...   5    0    0    4    4    0    0   \n",
       "3       4  0  0  0  0  0  0  0  0  0  ...   2    0    0    0    4    0    0   \n",
       "4       5  0  0  0  0  0  0  5  0  2  ...  13   25   30    6    0    0    0   \n",
       "\n",
       "   106  107  108  \n",
       "0   10    6    2  \n",
       "1    6    4    8  \n",
       "2   10    6    2  \n",
       "3    4    6    0  \n",
       "4   17   10    0  \n",
       "\n",
       "[5 rows x 110 columns]"
      ]
     },
     "execution_count": 187,
     "metadata": {},
     "output_type": "execute_result"
    }
   ],
   "source": [
    "vendastelepweek=pd.read_csv(\"4-VendasTelepWeek-Rev3.csv\",sep=',',encoding='Latin1')\n",
    "vendastelepweek.head()"
   ]
  },
  {
   "cell_type": "markdown",
   "metadata": {
    "heading_collapsed": true
   },
   "source": [
    "# EXPLORANDO O DATASET"
   ]
  },
  {
   "cell_type": "code",
   "execution_count": 188,
   "metadata": {
    "ExecuteTime": {
     "end_time": "2020-02-05T04:43:40.524338Z",
     "start_time": "2020-02-05T04:43:40.156995Z"
    },
    "hidden": true
   },
   "outputs": [
    {
     "name": "stdout",
     "output_type": "stream",
     "text": [
      "(107, 1)\n"
     ]
    },
    {
     "data": {
      "application/vnd.plotly.v1+json": {
       "config": {
        "plotlyServerURL": "https://plot.ly"
       },
       "data": [
        {
         "hoverlabel": {
          "namelength": 0
         },
         "hovertemplate": "x=%{x}<br>y=%{y}",
         "legendgroup": "",
         "line": {
          "color": "#636efa",
          "dash": "solid"
         },
         "mode": "lines",
         "name": "",
         "showlegend": false,
         "type": "scatter",
         "x": [
          2,
          3,
          4,
          5,
          6,
          7,
          8,
          9,
          10,
          11,
          12,
          13,
          14,
          15,
          16,
          17,
          18,
          19,
          20,
          21,
          22,
          23,
          24,
          25,
          26,
          27,
          28,
          29,
          30,
          31,
          32,
          33,
          34,
          35,
          36,
          37,
          38,
          39,
          40,
          41,
          42,
          43,
          44,
          45,
          46,
          47,
          48,
          49,
          50,
          51,
          52,
          53,
          54,
          55,
          56,
          57,
          58,
          59,
          60,
          61,
          62,
          63,
          64,
          65,
          66,
          67,
          68,
          69,
          70,
          71,
          72,
          73,
          74,
          75,
          76,
          77,
          78,
          79,
          80,
          81,
          82,
          83,
          84,
          85,
          86,
          87,
          88,
          89,
          90,
          91,
          92,
          93,
          94,
          95,
          96,
          97,
          98,
          99,
          100,
          101,
          102,
          103,
          104,
          105,
          106,
          107,
          108
         ],
         "xaxis": "x",
         "y": [
          169,
          15,
          11,
          32,
          44,
          57,
          22,
          44,
          58,
          18,
          39,
          48,
          35,
          74,
          5,
          122,
          61,
          30,
          51,
          14,
          182,
          107,
          168,
          59,
          152,
          108,
          281,
          221,
          135,
          122,
          179,
          164,
          170,
          251,
          165,
          187,
          179,
          317,
          154,
          185,
          221,
          356,
          255,
          155,
          170,
          244,
          306,
          261,
          328,
          78,
          82,
          227,
          293,
          359,
          263,
          476,
          412,
          427,
          310,
          216,
          439,
          422,
          319,
          373,
          346,
          272,
          228,
          255,
          443,
          181,
          297,
          216,
          282,
          273,
          162,
          197,
          280,
          167,
          249,
          137,
          308,
          249,
          249,
          139,
          202,
          314,
          128,
          335,
          208,
          245,
          107,
          112,
          156,
          134,
          212,
          205,
          153,
          202,
          242,
          262,
          277,
          201,
          18,
          49,
          344,
          239,
          132
         ],
         "yaxis": "y"
        }
       ],
       "layout": {
        "legend": {
         "tracegroupgap": 0
        },
        "template": {
         "data": {
          "bar": [
           {
            "error_x": {
             "color": "#2a3f5f"
            },
            "error_y": {
             "color": "#2a3f5f"
            },
            "marker": {
             "line": {
              "color": "#E5ECF6",
              "width": 0.5
             }
            },
            "type": "bar"
           }
          ],
          "barpolar": [
           {
            "marker": {
             "line": {
              "color": "#E5ECF6",
              "width": 0.5
             }
            },
            "type": "barpolar"
           }
          ],
          "carpet": [
           {
            "aaxis": {
             "endlinecolor": "#2a3f5f",
             "gridcolor": "white",
             "linecolor": "white",
             "minorgridcolor": "white",
             "startlinecolor": "#2a3f5f"
            },
            "baxis": {
             "endlinecolor": "#2a3f5f",
             "gridcolor": "white",
             "linecolor": "white",
             "minorgridcolor": "white",
             "startlinecolor": "#2a3f5f"
            },
            "type": "carpet"
           }
          ],
          "choropleth": [
           {
            "colorbar": {
             "outlinewidth": 0,
             "ticks": ""
            },
            "type": "choropleth"
           }
          ],
          "contour": [
           {
            "colorbar": {
             "outlinewidth": 0,
             "ticks": ""
            },
            "colorscale": [
             [
              0,
              "#0d0887"
             ],
             [
              0.1111111111111111,
              "#46039f"
             ],
             [
              0.2222222222222222,
              "#7201a8"
             ],
             [
              0.3333333333333333,
              "#9c179e"
             ],
             [
              0.4444444444444444,
              "#bd3786"
             ],
             [
              0.5555555555555556,
              "#d8576b"
             ],
             [
              0.6666666666666666,
              "#ed7953"
             ],
             [
              0.7777777777777778,
              "#fb9f3a"
             ],
             [
              0.8888888888888888,
              "#fdca26"
             ],
             [
              1,
              "#f0f921"
             ]
            ],
            "type": "contour"
           }
          ],
          "contourcarpet": [
           {
            "colorbar": {
             "outlinewidth": 0,
             "ticks": ""
            },
            "type": "contourcarpet"
           }
          ],
          "heatmap": [
           {
            "colorbar": {
             "outlinewidth": 0,
             "ticks": ""
            },
            "colorscale": [
             [
              0,
              "#0d0887"
             ],
             [
              0.1111111111111111,
              "#46039f"
             ],
             [
              0.2222222222222222,
              "#7201a8"
             ],
             [
              0.3333333333333333,
              "#9c179e"
             ],
             [
              0.4444444444444444,
              "#bd3786"
             ],
             [
              0.5555555555555556,
              "#d8576b"
             ],
             [
              0.6666666666666666,
              "#ed7953"
             ],
             [
              0.7777777777777778,
              "#fb9f3a"
             ],
             [
              0.8888888888888888,
              "#fdca26"
             ],
             [
              1,
              "#f0f921"
             ]
            ],
            "type": "heatmap"
           }
          ],
          "heatmapgl": [
           {
            "colorbar": {
             "outlinewidth": 0,
             "ticks": ""
            },
            "colorscale": [
             [
              0,
              "#0d0887"
             ],
             [
              0.1111111111111111,
              "#46039f"
             ],
             [
              0.2222222222222222,
              "#7201a8"
             ],
             [
              0.3333333333333333,
              "#9c179e"
             ],
             [
              0.4444444444444444,
              "#bd3786"
             ],
             [
              0.5555555555555556,
              "#d8576b"
             ],
             [
              0.6666666666666666,
              "#ed7953"
             ],
             [
              0.7777777777777778,
              "#fb9f3a"
             ],
             [
              0.8888888888888888,
              "#fdca26"
             ],
             [
              1,
              "#f0f921"
             ]
            ],
            "type": "heatmapgl"
           }
          ],
          "histogram": [
           {
            "marker": {
             "colorbar": {
              "outlinewidth": 0,
              "ticks": ""
             }
            },
            "type": "histogram"
           }
          ],
          "histogram2d": [
           {
            "colorbar": {
             "outlinewidth": 0,
             "ticks": ""
            },
            "colorscale": [
             [
              0,
              "#0d0887"
             ],
             [
              0.1111111111111111,
              "#46039f"
             ],
             [
              0.2222222222222222,
              "#7201a8"
             ],
             [
              0.3333333333333333,
              "#9c179e"
             ],
             [
              0.4444444444444444,
              "#bd3786"
             ],
             [
              0.5555555555555556,
              "#d8576b"
             ],
             [
              0.6666666666666666,
              "#ed7953"
             ],
             [
              0.7777777777777778,
              "#fb9f3a"
             ],
             [
              0.8888888888888888,
              "#fdca26"
             ],
             [
              1,
              "#f0f921"
             ]
            ],
            "type": "histogram2d"
           }
          ],
          "histogram2dcontour": [
           {
            "colorbar": {
             "outlinewidth": 0,
             "ticks": ""
            },
            "colorscale": [
             [
              0,
              "#0d0887"
             ],
             [
              0.1111111111111111,
              "#46039f"
             ],
             [
              0.2222222222222222,
              "#7201a8"
             ],
             [
              0.3333333333333333,
              "#9c179e"
             ],
             [
              0.4444444444444444,
              "#bd3786"
             ],
             [
              0.5555555555555556,
              "#d8576b"
             ],
             [
              0.6666666666666666,
              "#ed7953"
             ],
             [
              0.7777777777777778,
              "#fb9f3a"
             ],
             [
              0.8888888888888888,
              "#fdca26"
             ],
             [
              1,
              "#f0f921"
             ]
            ],
            "type": "histogram2dcontour"
           }
          ],
          "mesh3d": [
           {
            "colorbar": {
             "outlinewidth": 0,
             "ticks": ""
            },
            "type": "mesh3d"
           }
          ],
          "parcoords": [
           {
            "line": {
             "colorbar": {
              "outlinewidth": 0,
              "ticks": ""
             }
            },
            "type": "parcoords"
           }
          ],
          "pie": [
           {
            "automargin": true,
            "type": "pie"
           }
          ],
          "scatter": [
           {
            "marker": {
             "colorbar": {
              "outlinewidth": 0,
              "ticks": ""
             }
            },
            "type": "scatter"
           }
          ],
          "scatter3d": [
           {
            "line": {
             "colorbar": {
              "outlinewidth": 0,
              "ticks": ""
             }
            },
            "marker": {
             "colorbar": {
              "outlinewidth": 0,
              "ticks": ""
             }
            },
            "type": "scatter3d"
           }
          ],
          "scattercarpet": [
           {
            "marker": {
             "colorbar": {
              "outlinewidth": 0,
              "ticks": ""
             }
            },
            "type": "scattercarpet"
           }
          ],
          "scattergeo": [
           {
            "marker": {
             "colorbar": {
              "outlinewidth": 0,
              "ticks": ""
             }
            },
            "type": "scattergeo"
           }
          ],
          "scattergl": [
           {
            "marker": {
             "colorbar": {
              "outlinewidth": 0,
              "ticks": ""
             }
            },
            "type": "scattergl"
           }
          ],
          "scattermapbox": [
           {
            "marker": {
             "colorbar": {
              "outlinewidth": 0,
              "ticks": ""
             }
            },
            "type": "scattermapbox"
           }
          ],
          "scatterpolar": [
           {
            "marker": {
             "colorbar": {
              "outlinewidth": 0,
              "ticks": ""
             }
            },
            "type": "scatterpolar"
           }
          ],
          "scatterpolargl": [
           {
            "marker": {
             "colorbar": {
              "outlinewidth": 0,
              "ticks": ""
             }
            },
            "type": "scatterpolargl"
           }
          ],
          "scatterternary": [
           {
            "marker": {
             "colorbar": {
              "outlinewidth": 0,
              "ticks": ""
             }
            },
            "type": "scatterternary"
           }
          ],
          "surface": [
           {
            "colorbar": {
             "outlinewidth": 0,
             "ticks": ""
            },
            "colorscale": [
             [
              0,
              "#0d0887"
             ],
             [
              0.1111111111111111,
              "#46039f"
             ],
             [
              0.2222222222222222,
              "#7201a8"
             ],
             [
              0.3333333333333333,
              "#9c179e"
             ],
             [
              0.4444444444444444,
              "#bd3786"
             ],
             [
              0.5555555555555556,
              "#d8576b"
             ],
             [
              0.6666666666666666,
              "#ed7953"
             ],
             [
              0.7777777777777778,
              "#fb9f3a"
             ],
             [
              0.8888888888888888,
              "#fdca26"
             ],
             [
              1,
              "#f0f921"
             ]
            ],
            "type": "surface"
           }
          ],
          "table": [
           {
            "cells": {
             "fill": {
              "color": "#EBF0F8"
             },
             "line": {
              "color": "white"
             }
            },
            "header": {
             "fill": {
              "color": "#C8D4E3"
             },
             "line": {
              "color": "white"
             }
            },
            "type": "table"
           }
          ]
         },
         "layout": {
          "annotationdefaults": {
           "arrowcolor": "#2a3f5f",
           "arrowhead": 0,
           "arrowwidth": 1
          },
          "coloraxis": {
           "colorbar": {
            "outlinewidth": 0,
            "ticks": ""
           }
          },
          "colorscale": {
           "diverging": [
            [
             0,
             "#8e0152"
            ],
            [
             0.1,
             "#c51b7d"
            ],
            [
             0.2,
             "#de77ae"
            ],
            [
             0.3,
             "#f1b6da"
            ],
            [
             0.4,
             "#fde0ef"
            ],
            [
             0.5,
             "#f7f7f7"
            ],
            [
             0.6,
             "#e6f5d0"
            ],
            [
             0.7,
             "#b8e186"
            ],
            [
             0.8,
             "#7fbc41"
            ],
            [
             0.9,
             "#4d9221"
            ],
            [
             1,
             "#276419"
            ]
           ],
           "sequential": [
            [
             0,
             "#0d0887"
            ],
            [
             0.1111111111111111,
             "#46039f"
            ],
            [
             0.2222222222222222,
             "#7201a8"
            ],
            [
             0.3333333333333333,
             "#9c179e"
            ],
            [
             0.4444444444444444,
             "#bd3786"
            ],
            [
             0.5555555555555556,
             "#d8576b"
            ],
            [
             0.6666666666666666,
             "#ed7953"
            ],
            [
             0.7777777777777778,
             "#fb9f3a"
            ],
            [
             0.8888888888888888,
             "#fdca26"
            ],
            [
             1,
             "#f0f921"
            ]
           ],
           "sequentialminus": [
            [
             0,
             "#0d0887"
            ],
            [
             0.1111111111111111,
             "#46039f"
            ],
            [
             0.2222222222222222,
             "#7201a8"
            ],
            [
             0.3333333333333333,
             "#9c179e"
            ],
            [
             0.4444444444444444,
             "#bd3786"
            ],
            [
             0.5555555555555556,
             "#d8576b"
            ],
            [
             0.6666666666666666,
             "#ed7953"
            ],
            [
             0.7777777777777778,
             "#fb9f3a"
            ],
            [
             0.8888888888888888,
             "#fdca26"
            ],
            [
             1,
             "#f0f921"
            ]
           ]
          },
          "colorway": [
           "#636efa",
           "#EF553B",
           "#00cc96",
           "#ab63fa",
           "#FFA15A",
           "#19d3f3",
           "#FF6692",
           "#B6E880",
           "#FF97FF",
           "#FECB52"
          ],
          "font": {
           "color": "#2a3f5f"
          },
          "geo": {
           "bgcolor": "white",
           "lakecolor": "white",
           "landcolor": "#E5ECF6",
           "showlakes": true,
           "showland": true,
           "subunitcolor": "white"
          },
          "hoverlabel": {
           "align": "left"
          },
          "hovermode": "closest",
          "mapbox": {
           "style": "light"
          },
          "paper_bgcolor": "white",
          "plot_bgcolor": "#E5ECF6",
          "polar": {
           "angularaxis": {
            "gridcolor": "white",
            "linecolor": "white",
            "ticks": ""
           },
           "bgcolor": "#E5ECF6",
           "radialaxis": {
            "gridcolor": "white",
            "linecolor": "white",
            "ticks": ""
           }
          },
          "scene": {
           "xaxis": {
            "backgroundcolor": "#E5ECF6",
            "gridcolor": "white",
            "gridwidth": 2,
            "linecolor": "white",
            "showbackground": true,
            "ticks": "",
            "zerolinecolor": "white"
           },
           "yaxis": {
            "backgroundcolor": "#E5ECF6",
            "gridcolor": "white",
            "gridwidth": 2,
            "linecolor": "white",
            "showbackground": true,
            "ticks": "",
            "zerolinecolor": "white"
           },
           "zaxis": {
            "backgroundcolor": "#E5ECF6",
            "gridcolor": "white",
            "gridwidth": 2,
            "linecolor": "white",
            "showbackground": true,
            "ticks": "",
            "zerolinecolor": "white"
           }
          },
          "shapedefaults": {
           "line": {
            "color": "#2a3f5f"
           }
          },
          "ternary": {
           "aaxis": {
            "gridcolor": "white",
            "linecolor": "white",
            "ticks": ""
           },
           "baxis": {
            "gridcolor": "white",
            "linecolor": "white",
            "ticks": ""
           },
           "bgcolor": "#E5ECF6",
           "caxis": {
            "gridcolor": "white",
            "linecolor": "white",
            "ticks": ""
           }
          },
          "title": {
           "x": 0.05
          },
          "xaxis": {
           "automargin": true,
           "gridcolor": "white",
           "linecolor": "white",
           "ticks": "",
           "title": {
            "standoff": 15
           },
           "zerolinecolor": "white",
           "zerolinewidth": 2
          },
          "yaxis": {
           "automargin": true,
           "gridcolor": "white",
           "linecolor": "white",
           "ticks": "",
           "title": {
            "standoff": 15
           },
           "zerolinecolor": "white",
           "zerolinewidth": 2
          }
         }
        },
        "title": {
         "text": "Unidades Vendidas/Semana"
        },
        "xaxis": {
         "anchor": "y",
         "domain": [
          0,
          1
         ],
         "title": {
          "text": "x"
         }
        },
        "yaxis": {
         "anchor": "x",
         "domain": [
          0,
          1
         ],
         "title": {
          "text": "y"
         }
        }
       }
      },
      "text/html": [
       "<div>\n",
       "        \n",
       "        \n",
       "            <div id=\"21a3c39a-dfdd-4605-a36d-7df1656a70c8\" class=\"plotly-graph-div\" style=\"height:525px; width:100%;\"></div>\n",
       "            <script type=\"text/javascript\">\n",
       "                require([\"plotly\"], function(Plotly) {\n",
       "                    window.PLOTLYENV=window.PLOTLYENV || {};\n",
       "                    \n",
       "                if (document.getElementById(\"21a3c39a-dfdd-4605-a36d-7df1656a70c8\")) {\n",
       "                    Plotly.newPlot(\n",
       "                        '21a3c39a-dfdd-4605-a36d-7df1656a70c8',\n",
       "                        [{\"hoverlabel\": {\"namelength\": 0}, \"hovertemplate\": \"x=%{x}<br>y=%{y}\", \"legendgroup\": \"\", \"line\": {\"color\": \"#636efa\", \"dash\": \"solid\"}, \"mode\": \"lines\", \"name\": \"\", \"showlegend\": false, \"type\": \"scatter\", \"x\": [2, 3, 4, 5, 6, 7, 8, 9, 10, 11, 12, 13, 14, 15, 16, 17, 18, 19, 20, 21, 22, 23, 24, 25, 26, 27, 28, 29, 30, 31, 32, 33, 34, 35, 36, 37, 38, 39, 40, 41, 42, 43, 44, 45, 46, 47, 48, 49, 50, 51, 52, 53, 54, 55, 56, 57, 58, 59, 60, 61, 62, 63, 64, 65, 66, 67, 68, 69, 70, 71, 72, 73, 74, 75, 76, 77, 78, 79, 80, 81, 82, 83, 84, 85, 86, 87, 88, 89, 90, 91, 92, 93, 94, 95, 96, 97, 98, 99, 100, 101, 102, 103, 104, 105, 106, 107, 108], \"xaxis\": \"x\", \"y\": [169, 15, 11, 32, 44, 57, 22, 44, 58, 18, 39, 48, 35, 74, 5, 122, 61, 30, 51, 14, 182, 107, 168, 59, 152, 108, 281, 221, 135, 122, 179, 164, 170, 251, 165, 187, 179, 317, 154, 185, 221, 356, 255, 155, 170, 244, 306, 261, 328, 78, 82, 227, 293, 359, 263, 476, 412, 427, 310, 216, 439, 422, 319, 373, 346, 272, 228, 255, 443, 181, 297, 216, 282, 273, 162, 197, 280, 167, 249, 137, 308, 249, 249, 139, 202, 314, 128, 335, 208, 245, 107, 112, 156, 134, 212, 205, 153, 202, 242, 262, 277, 201, 18, 49, 344, 239, 132], \"yaxis\": \"y\"}],\n",
       "                        {\"legend\": {\"tracegroupgap\": 0}, \"template\": {\"data\": {\"bar\": [{\"error_x\": {\"color\": \"#2a3f5f\"}, \"error_y\": {\"color\": \"#2a3f5f\"}, \"marker\": {\"line\": {\"color\": \"#E5ECF6\", \"width\": 0.5}}, \"type\": \"bar\"}], \"barpolar\": [{\"marker\": {\"line\": {\"color\": \"#E5ECF6\", \"width\": 0.5}}, \"type\": \"barpolar\"}], \"carpet\": [{\"aaxis\": {\"endlinecolor\": \"#2a3f5f\", \"gridcolor\": \"white\", \"linecolor\": \"white\", \"minorgridcolor\": \"white\", \"startlinecolor\": \"#2a3f5f\"}, \"baxis\": {\"endlinecolor\": \"#2a3f5f\", \"gridcolor\": \"white\", \"linecolor\": \"white\", \"minorgridcolor\": \"white\", \"startlinecolor\": \"#2a3f5f\"}, \"type\": \"carpet\"}], \"choropleth\": [{\"colorbar\": {\"outlinewidth\": 0, \"ticks\": \"\"}, \"type\": \"choropleth\"}], \"contour\": [{\"colorbar\": {\"outlinewidth\": 0, \"ticks\": \"\"}, \"colorscale\": [[0.0, \"#0d0887\"], [0.1111111111111111, \"#46039f\"], [0.2222222222222222, \"#7201a8\"], [0.3333333333333333, \"#9c179e\"], [0.4444444444444444, \"#bd3786\"], [0.5555555555555556, \"#d8576b\"], [0.6666666666666666, \"#ed7953\"], [0.7777777777777778, \"#fb9f3a\"], [0.8888888888888888, \"#fdca26\"], [1.0, \"#f0f921\"]], \"type\": \"contour\"}], \"contourcarpet\": [{\"colorbar\": {\"outlinewidth\": 0, \"ticks\": \"\"}, \"type\": \"contourcarpet\"}], \"heatmap\": [{\"colorbar\": {\"outlinewidth\": 0, \"ticks\": \"\"}, \"colorscale\": [[0.0, \"#0d0887\"], [0.1111111111111111, \"#46039f\"], [0.2222222222222222, \"#7201a8\"], [0.3333333333333333, \"#9c179e\"], [0.4444444444444444, \"#bd3786\"], [0.5555555555555556, \"#d8576b\"], [0.6666666666666666, \"#ed7953\"], [0.7777777777777778, \"#fb9f3a\"], [0.8888888888888888, \"#fdca26\"], [1.0, \"#f0f921\"]], \"type\": \"heatmap\"}], \"heatmapgl\": [{\"colorbar\": {\"outlinewidth\": 0, \"ticks\": \"\"}, \"colorscale\": [[0.0, \"#0d0887\"], [0.1111111111111111, \"#46039f\"], [0.2222222222222222, \"#7201a8\"], [0.3333333333333333, \"#9c179e\"], [0.4444444444444444, \"#bd3786\"], [0.5555555555555556, \"#d8576b\"], [0.6666666666666666, \"#ed7953\"], [0.7777777777777778, \"#fb9f3a\"], [0.8888888888888888, \"#fdca26\"], [1.0, \"#f0f921\"]], \"type\": \"heatmapgl\"}], \"histogram\": [{\"marker\": {\"colorbar\": {\"outlinewidth\": 0, \"ticks\": \"\"}}, \"type\": \"histogram\"}], \"histogram2d\": [{\"colorbar\": {\"outlinewidth\": 0, \"ticks\": \"\"}, \"colorscale\": [[0.0, \"#0d0887\"], [0.1111111111111111, \"#46039f\"], [0.2222222222222222, \"#7201a8\"], [0.3333333333333333, \"#9c179e\"], [0.4444444444444444, \"#bd3786\"], [0.5555555555555556, \"#d8576b\"], [0.6666666666666666, \"#ed7953\"], [0.7777777777777778, \"#fb9f3a\"], [0.8888888888888888, \"#fdca26\"], [1.0, \"#f0f921\"]], \"type\": \"histogram2d\"}], \"histogram2dcontour\": [{\"colorbar\": {\"outlinewidth\": 0, \"ticks\": \"\"}, \"colorscale\": [[0.0, \"#0d0887\"], [0.1111111111111111, \"#46039f\"], [0.2222222222222222, \"#7201a8\"], [0.3333333333333333, \"#9c179e\"], [0.4444444444444444, \"#bd3786\"], [0.5555555555555556, \"#d8576b\"], [0.6666666666666666, \"#ed7953\"], [0.7777777777777778, \"#fb9f3a\"], [0.8888888888888888, \"#fdca26\"], [1.0, \"#f0f921\"]], \"type\": \"histogram2dcontour\"}], \"mesh3d\": [{\"colorbar\": {\"outlinewidth\": 0, \"ticks\": \"\"}, \"type\": \"mesh3d\"}], \"parcoords\": [{\"line\": {\"colorbar\": {\"outlinewidth\": 0, \"ticks\": \"\"}}, \"type\": \"parcoords\"}], \"pie\": [{\"automargin\": true, \"type\": \"pie\"}], \"scatter\": [{\"marker\": {\"colorbar\": {\"outlinewidth\": 0, \"ticks\": \"\"}}, \"type\": \"scatter\"}], \"scatter3d\": [{\"line\": {\"colorbar\": {\"outlinewidth\": 0, \"ticks\": \"\"}}, \"marker\": {\"colorbar\": {\"outlinewidth\": 0, \"ticks\": \"\"}}, \"type\": \"scatter3d\"}], \"scattercarpet\": [{\"marker\": {\"colorbar\": {\"outlinewidth\": 0, \"ticks\": \"\"}}, \"type\": \"scattercarpet\"}], \"scattergeo\": [{\"marker\": {\"colorbar\": {\"outlinewidth\": 0, \"ticks\": \"\"}}, \"type\": \"scattergeo\"}], \"scattergl\": [{\"marker\": {\"colorbar\": {\"outlinewidth\": 0, \"ticks\": \"\"}}, \"type\": \"scattergl\"}], \"scattermapbox\": [{\"marker\": {\"colorbar\": {\"outlinewidth\": 0, \"ticks\": \"\"}}, \"type\": \"scattermapbox\"}], \"scatterpolar\": [{\"marker\": {\"colorbar\": {\"outlinewidth\": 0, \"ticks\": \"\"}}, \"type\": \"scatterpolar\"}], \"scatterpolargl\": [{\"marker\": {\"colorbar\": {\"outlinewidth\": 0, \"ticks\": \"\"}}, \"type\": \"scatterpolargl\"}], \"scatterternary\": [{\"marker\": {\"colorbar\": {\"outlinewidth\": 0, \"ticks\": \"\"}}, \"type\": \"scatterternary\"}], \"surface\": [{\"colorbar\": {\"outlinewidth\": 0, \"ticks\": \"\"}, \"colorscale\": [[0.0, \"#0d0887\"], [0.1111111111111111, \"#46039f\"], [0.2222222222222222, \"#7201a8\"], [0.3333333333333333, \"#9c179e\"], [0.4444444444444444, \"#bd3786\"], [0.5555555555555556, \"#d8576b\"], [0.6666666666666666, \"#ed7953\"], [0.7777777777777778, \"#fb9f3a\"], [0.8888888888888888, \"#fdca26\"], [1.0, \"#f0f921\"]], \"type\": \"surface\"}], \"table\": [{\"cells\": {\"fill\": {\"color\": \"#EBF0F8\"}, \"line\": {\"color\": \"white\"}}, \"header\": {\"fill\": {\"color\": \"#C8D4E3\"}, \"line\": {\"color\": \"white\"}}, \"type\": \"table\"}]}, \"layout\": {\"annotationdefaults\": {\"arrowcolor\": \"#2a3f5f\", \"arrowhead\": 0, \"arrowwidth\": 1}, \"coloraxis\": {\"colorbar\": {\"outlinewidth\": 0, \"ticks\": \"\"}}, \"colorscale\": {\"diverging\": [[0, \"#8e0152\"], [0.1, \"#c51b7d\"], [0.2, \"#de77ae\"], [0.3, \"#f1b6da\"], [0.4, \"#fde0ef\"], [0.5, \"#f7f7f7\"], [0.6, \"#e6f5d0\"], [0.7, \"#b8e186\"], [0.8, \"#7fbc41\"], [0.9, \"#4d9221\"], [1, \"#276419\"]], \"sequential\": [[0.0, \"#0d0887\"], [0.1111111111111111, \"#46039f\"], [0.2222222222222222, \"#7201a8\"], [0.3333333333333333, \"#9c179e\"], [0.4444444444444444, \"#bd3786\"], [0.5555555555555556, \"#d8576b\"], [0.6666666666666666, \"#ed7953\"], [0.7777777777777778, \"#fb9f3a\"], [0.8888888888888888, \"#fdca26\"], [1.0, \"#f0f921\"]], \"sequentialminus\": [[0.0, \"#0d0887\"], [0.1111111111111111, \"#46039f\"], [0.2222222222222222, \"#7201a8\"], [0.3333333333333333, \"#9c179e\"], [0.4444444444444444, \"#bd3786\"], [0.5555555555555556, \"#d8576b\"], [0.6666666666666666, \"#ed7953\"], [0.7777777777777778, \"#fb9f3a\"], [0.8888888888888888, \"#fdca26\"], [1.0, \"#f0f921\"]]}, \"colorway\": [\"#636efa\", \"#EF553B\", \"#00cc96\", \"#ab63fa\", \"#FFA15A\", \"#19d3f3\", \"#FF6692\", \"#B6E880\", \"#FF97FF\", \"#FECB52\"], \"font\": {\"color\": \"#2a3f5f\"}, \"geo\": {\"bgcolor\": \"white\", \"lakecolor\": \"white\", \"landcolor\": \"#E5ECF6\", \"showlakes\": true, \"showland\": true, \"subunitcolor\": \"white\"}, \"hoverlabel\": {\"align\": \"left\"}, \"hovermode\": \"closest\", \"mapbox\": {\"style\": \"light\"}, \"paper_bgcolor\": \"white\", \"plot_bgcolor\": \"#E5ECF6\", \"polar\": {\"angularaxis\": {\"gridcolor\": \"white\", \"linecolor\": \"white\", \"ticks\": \"\"}, \"bgcolor\": \"#E5ECF6\", \"radialaxis\": {\"gridcolor\": \"white\", \"linecolor\": \"white\", \"ticks\": \"\"}}, \"scene\": {\"xaxis\": {\"backgroundcolor\": \"#E5ECF6\", \"gridcolor\": \"white\", \"gridwidth\": 2, \"linecolor\": \"white\", \"showbackground\": true, \"ticks\": \"\", \"zerolinecolor\": \"white\"}, \"yaxis\": {\"backgroundcolor\": \"#E5ECF6\", \"gridcolor\": \"white\", \"gridwidth\": 2, \"linecolor\": \"white\", \"showbackground\": true, \"ticks\": \"\", \"zerolinecolor\": \"white\"}, \"zaxis\": {\"backgroundcolor\": \"#E5ECF6\", \"gridcolor\": \"white\", \"gridwidth\": 2, \"linecolor\": \"white\", \"showbackground\": true, \"ticks\": \"\", \"zerolinecolor\": \"white\"}}, \"shapedefaults\": {\"line\": {\"color\": \"#2a3f5f\"}}, \"ternary\": {\"aaxis\": {\"gridcolor\": \"white\", \"linecolor\": \"white\", \"ticks\": \"\"}, \"baxis\": {\"gridcolor\": \"white\", \"linecolor\": \"white\", \"ticks\": \"\"}, \"bgcolor\": \"#E5ECF6\", \"caxis\": {\"gridcolor\": \"white\", \"linecolor\": \"white\", \"ticks\": \"\"}}, \"title\": {\"x\": 0.05}, \"xaxis\": {\"automargin\": true, \"gridcolor\": \"white\", \"linecolor\": \"white\", \"ticks\": \"\", \"title\": {\"standoff\": 15}, \"zerolinecolor\": \"white\", \"zerolinewidth\": 2}, \"yaxis\": {\"automargin\": true, \"gridcolor\": \"white\", \"linecolor\": \"white\", \"ticks\": \"\", \"title\": {\"standoff\": 15}, \"zerolinecolor\": \"white\", \"zerolinewidth\": 2}}}, \"title\": {\"text\": \"Unidades Vendidas/Semana\"}, \"xaxis\": {\"anchor\": \"y\", \"domain\": [0.0, 1.0], \"title\": {\"text\": \"x\"}}, \"yaxis\": {\"anchor\": \"x\", \"domain\": [0.0, 1.0], \"title\": {\"text\": \"y\"}}},\n",
       "                        {\"responsive\": true}\n",
       "                    ).then(function(){\n",
       "                            \n",
       "var gd = document.getElementById('21a3c39a-dfdd-4605-a36d-7df1656a70c8');\n",
       "var x = new MutationObserver(function (mutations, observer) {{\n",
       "        var display = window.getComputedStyle(gd).display;\n",
       "        if (!display || display === 'none') {{\n",
       "            console.log([gd, 'removed!']);\n",
       "            Plotly.purge(gd);\n",
       "            observer.disconnect();\n",
       "        }}\n",
       "}});\n",
       "\n",
       "// Listen for the removal of the full notebook cells\n",
       "var notebookContainer = gd.closest('#notebook-container');\n",
       "if (notebookContainer) {{\n",
       "    x.observe(notebookContainer, {childList: true});\n",
       "}}\n",
       "\n",
       "// Listen for the clearing of the current output cell\n",
       "var outputEl = gd.closest('.output');\n",
       "if (outputEl) {{\n",
       "    x.observe(outputEl, {childList: true});\n",
       "}}\n",
       "\n",
       "                        })\n",
       "                };\n",
       "                });\n",
       "            </script>\n",
       "        </div>"
      ]
     },
     "metadata": {},
     "output_type": "display_data"
    }
   ],
   "source": [
    "vendastelepweek = pd.read_csv(r'4-VendasTelepWeek-Rev3.csv')\n",
    "melt = vendastelepweek.melt(id_vars='Codigo', var_name='Week',value_name='Vendas')\n",
    "melt = melt.sort_values(['Week','Codigo']).reset_index(drop=True)\n",
    "melt['Week'] = melt['Week'].astype(int)\n",
    "\n",
    "import plotly.express as px\n",
    "x=(melt2.groupby(['Week']))['Week'].nunique().index\n",
    "y=pd.DataFrame(melt2.groupby(['Week'])['Vendas'].sum())\n",
    "fig = px.line(melt2, x=x, y=y,title=\"Unidades Vendidas/Semana\")\n",
    "print(y.shape)\n",
    "fig.show()"
   ]
  },
  {
   "cell_type": "markdown",
   "metadata": {
    "heading_collapsed": true
   },
   "source": [
    "# FEATURE ENGINEER 1: Lag( ) + Diff( ) + Dummies (Meses)"
   ]
  },
  {
   "cell_type": "code",
   "execution_count": 217,
   "metadata": {
    "ExecuteTime": {
     "end_time": "2020-02-05T05:07:36.202498Z",
     "start_time": "2020-02-05T05:07:36.120223Z"
    },
    "hidden": true
   },
   "outputs": [
    {
     "name": "stdout",
     "output_type": "stream",
     "text": [
      "<class 'pandas.core.frame.DataFrame'>\n",
      "RangeIndex: 20437 entries, 0 to 20436\n",
      "Data columns (total 5 columns):\n",
      "Codigo                20437 non-null int64\n",
      "Week                  20437 non-null int64\n",
      "Vendas                20437 non-null int64\n",
      "VendasLastWeek        20437 non-null int64\n",
      "DiffVendasLastWeek    20437 non-null int64\n",
      "dtypes: int64(5)\n",
      "memory usage: 798.4 KB\n"
     ]
    }
   ],
   "source": [
    "melt2 = melt.copy()\n",
    "melt2['VendasLastWeek'] = melt2.groupby(['Codigo'])['Vendas'].shift()\n",
    "melt2['DiffVendasLastWeek'] = melt2.groupby(['Codigo'])['VendasLastWeek'].diff()\n",
    "melt2 = melt2.dropna().reset_index(drop=True)\n",
    "melt2 = melt2.sort_values(['Week','Codigo']).reset_index(drop=True)\n",
    "\n",
    "melt2['Week'] = melt2['Week'].astype(int)\n",
    "melt2['VendasLastWeek'] = melt2['VendasLastWeek'].astype(int)\n",
    "melt2['DiffVendasLastWeek'] = melt2['DiffVendasLastWeek'].astype(int)\n",
    "\n",
    "melt2.head()\n",
    "melt2.info()"
   ]
  },
  {
   "cell_type": "code",
   "execution_count": 218,
   "metadata": {
    "ExecuteTime": {
     "end_time": "2020-02-05T05:07:37.416287Z",
     "start_time": "2020-02-05T05:07:37.178519Z"
    },
    "code_folding": [],
    "hidden": true
   },
   "outputs": [
    {
     "data": {
      "text/html": [
       "<div>\n",
       "<style scoped>\n",
       "    .dataframe tbody tr th:only-of-type {\n",
       "        vertical-align: middle;\n",
       "    }\n",
       "\n",
       "    .dataframe tbody tr th {\n",
       "        vertical-align: top;\n",
       "    }\n",
       "\n",
       "    .dataframe thead th {\n",
       "        text-align: right;\n",
       "    }\n",
       "</style>\n",
       "<table border=\"1\" class=\"dataframe\">\n",
       "  <thead>\n",
       "    <tr style=\"text-align: right;\">\n",
       "      <th></th>\n",
       "      <th>Codigo</th>\n",
       "      <th>Week</th>\n",
       "      <th>Vendas</th>\n",
       "      <th>VendasLastWeek</th>\n",
       "      <th>DiffVendasLastWeek</th>\n",
       "      <th>Jan</th>\n",
       "      <th>Fev</th>\n",
       "      <th>Mar</th>\n",
       "      <th>Abr</th>\n",
       "      <th>Mai</th>\n",
       "      <th>Jun</th>\n",
       "      <th>Jul</th>\n",
       "      <th>Ago</th>\n",
       "      <th>Set</th>\n",
       "      <th>Out</th>\n",
       "      <th>Nov</th>\n",
       "      <th>Dez</th>\n",
       "    </tr>\n",
       "  </thead>\n",
       "  <tbody>\n",
       "    <tr>\n",
       "      <td>0</td>\n",
       "      <td>1</td>\n",
       "      <td>2</td>\n",
       "      <td>0</td>\n",
       "      <td>0</td>\n",
       "      <td>0</td>\n",
       "      <td>1</td>\n",
       "      <td>0</td>\n",
       "      <td>0</td>\n",
       "      <td>0</td>\n",
       "      <td>0</td>\n",
       "      <td>0</td>\n",
       "      <td>0</td>\n",
       "      <td>0</td>\n",
       "      <td>0</td>\n",
       "      <td>0</td>\n",
       "      <td>0</td>\n",
       "      <td>0</td>\n",
       "    </tr>\n",
       "    <tr>\n",
       "      <td>1</td>\n",
       "      <td>2</td>\n",
       "      <td>2</td>\n",
       "      <td>0</td>\n",
       "      <td>0</td>\n",
       "      <td>0</td>\n",
       "      <td>1</td>\n",
       "      <td>0</td>\n",
       "      <td>0</td>\n",
       "      <td>0</td>\n",
       "      <td>0</td>\n",
       "      <td>0</td>\n",
       "      <td>0</td>\n",
       "      <td>0</td>\n",
       "      <td>0</td>\n",
       "      <td>0</td>\n",
       "      <td>0</td>\n",
       "      <td>0</td>\n",
       "    </tr>\n",
       "    <tr>\n",
       "      <td>2</td>\n",
       "      <td>3</td>\n",
       "      <td>2</td>\n",
       "      <td>0</td>\n",
       "      <td>0</td>\n",
       "      <td>0</td>\n",
       "      <td>1</td>\n",
       "      <td>0</td>\n",
       "      <td>0</td>\n",
       "      <td>0</td>\n",
       "      <td>0</td>\n",
       "      <td>0</td>\n",
       "      <td>0</td>\n",
       "      <td>0</td>\n",
       "      <td>0</td>\n",
       "      <td>0</td>\n",
       "      <td>0</td>\n",
       "      <td>0</td>\n",
       "    </tr>\n",
       "    <tr>\n",
       "      <td>3</td>\n",
       "      <td>4</td>\n",
       "      <td>2</td>\n",
       "      <td>0</td>\n",
       "      <td>0</td>\n",
       "      <td>0</td>\n",
       "      <td>1</td>\n",
       "      <td>0</td>\n",
       "      <td>0</td>\n",
       "      <td>0</td>\n",
       "      <td>0</td>\n",
       "      <td>0</td>\n",
       "      <td>0</td>\n",
       "      <td>0</td>\n",
       "      <td>0</td>\n",
       "      <td>0</td>\n",
       "      <td>0</td>\n",
       "      <td>0</td>\n",
       "    </tr>\n",
       "    <tr>\n",
       "      <td>4</td>\n",
       "      <td>5</td>\n",
       "      <td>2</td>\n",
       "      <td>0</td>\n",
       "      <td>0</td>\n",
       "      <td>-6</td>\n",
       "      <td>1</td>\n",
       "      <td>0</td>\n",
       "      <td>0</td>\n",
       "      <td>0</td>\n",
       "      <td>0</td>\n",
       "      <td>0</td>\n",
       "      <td>0</td>\n",
       "      <td>0</td>\n",
       "      <td>0</td>\n",
       "      <td>0</td>\n",
       "      <td>0</td>\n",
       "      <td>0</td>\n",
       "    </tr>\n",
       "  </tbody>\n",
       "</table>\n",
       "</div>"
      ],
      "text/plain": [
       "   Codigo  Week  Vendas  VendasLastWeek  DiffVendasLastWeek  Jan  Fev  Mar  \\\n",
       "0       1     2       0               0                   0    1    0    0   \n",
       "1       2     2       0               0                   0    1    0    0   \n",
       "2       3     2       0               0                   0    1    0    0   \n",
       "3       4     2       0               0                   0    1    0    0   \n",
       "4       5     2       0               0                  -6    1    0    0   \n",
       "\n",
       "   Abr  Mai  Jun  Jul  Ago  Set  Out  Nov  Dez  \n",
       "0    0    0    0    0    0    0    0    0    0  \n",
       "1    0    0    0    0    0    0    0    0    0  \n",
       "2    0    0    0    0    0    0    0    0    0  \n",
       "3    0    0    0    0    0    0    0    0    0  \n",
       "4    0    0    0    0    0    0    0    0    0  "
      ]
     },
     "execution_count": 218,
     "metadata": {},
     "output_type": "execute_result"
    }
   ],
   "source": [
    "Jan = []\n",
    "for w in melt2['Week']:\n",
    "    if (w<=4) or (w>=52 and w<=56)or (w>=104):\n",
    "        jan = 1\n",
    "    else:\n",
    "        jan = 0\n",
    "    Jan.append(jan)\n",
    "melt2['Jan'] = Jan\n",
    "\n",
    "Fev = []\n",
    "for w in melt2['Week']:\n",
    "    if (w>=5 and w<=8) or (w>=57 and w<=60):\n",
    "        fev = 1\n",
    "    else:\n",
    "        fev = 0\n",
    "    Fev.append(fev)\n",
    "melt2['Fev'] = Fev\n",
    "\n",
    "\n",
    "Mar = []\n",
    "for w in melt2['Week']:\n",
    "    if (w>=9 and w<=12) or (w>=61 and w<=64):\n",
    "        mar = 1\n",
    "    else:\n",
    "        mar = 0\n",
    "    Mar.append(mar)\n",
    "melt2['Mar'] = Mar\n",
    "\n",
    "\n",
    "Abr = []\n",
    "for w in melt2['Week']:\n",
    "    if (w>=13 and w<=17) or (w>=65 and w<=69):\n",
    "        abr = 1\n",
    "    else:\n",
    "        abr = 0\n",
    "    Abr.append(abr)\n",
    "melt2['Abr'] = Abr\n",
    "\n",
    "\n",
    "Mai = []\n",
    "for w in melt2['Week']:\n",
    "    if (w>=18 and w<=21) or (w>=70 and w<=73):\n",
    "        mai = 1\n",
    "    else:\n",
    "        mai = 0\n",
    "    Mai.append(mai)\n",
    "melt2['Mai'] = Mai\n",
    "\n",
    "\n",
    "Jun = []\n",
    "for w in melt2['Week']:\n",
    "    if (w>=22 and w<=25) or (w>=74 and w<=77):\n",
    "        jun = 1\n",
    "    else:\n",
    "        jun = 0\n",
    "    Jun.append(jun)\n",
    "melt2['Jun'] = Jun\n",
    "\n",
    "\n",
    "Jul = []\n",
    "for w in melt2['Week']:\n",
    "    if (w>=26 and w<=30) or (w>=78 and w<=82):\n",
    "        jul = 1\n",
    "    else:\n",
    "        jul = 0\n",
    "    Jul.append(jul)\n",
    "melt2['Jul'] = Jul\n",
    "\n",
    "\n",
    "Ago = []\n",
    "for w in melt2['Week']:\n",
    "    if (w>=31 and w<=34) or (w>=83 and w<=86):\n",
    "        ago = 1\n",
    "    else:\n",
    "        ago = 0\n",
    "    Ago.append(ago)\n",
    "melt2['Ago'] = Ago\n",
    "\n",
    "\n",
    "Set = []\n",
    "for w in melt2['Week']:\n",
    "    if (w>=35 and w<=38) or (w>=87 and w<=91):\n",
    "        set = 1\n",
    "    else:\n",
    "        set = 0\n",
    "    Set.append(set)\n",
    "melt2['Set'] = Set\n",
    "\n",
    "Out = []\n",
    "for w in melt2['Week']:\n",
    "    if (w>=39 and w<=43) or (w>=92 and w<=95):\n",
    "        out = 1\n",
    "    else:\n",
    "        out = 0\n",
    "    Out.append(out)\n",
    "melt2['Out'] = Out\n",
    "\n",
    "\n",
    "Nov = []\n",
    "for w in melt2['Week']:\n",
    "    if (w>=44 and w<=47) or (w>=96 and w<=99):\n",
    "        nov = 1\n",
    "    else:\n",
    "        nov = 0\n",
    "    Nov.append(nov)\n",
    "melt2['Nov'] = Nov\n",
    "\n",
    "Dez = []\n",
    "for w in melt2['Week']:\n",
    "    if (w>=48 and w<=52) or (w>=100 and w<=104):\n",
    "        dez = 1\n",
    "    else:\n",
    "        dez = 0\n",
    "    Dez.append(dez)\n",
    "melt2['Dez'] = Dez\n",
    "\n",
    "melt2.head()"
   ]
  },
  {
   "cell_type": "markdown",
   "metadata": {
    "heading_collapsed": true
   },
   "source": [
    "# BASELINE:     LAST WEEK \n",
    "RMSLE = 0.81424"
   ]
  },
  {
   "cell_type": "code",
   "execution_count": 219,
   "metadata": {
    "ExecuteTime": {
     "end_time": "2020-02-05T05:07:43.234956Z",
     "start_time": "2020-02-05T05:07:43.230441Z"
    },
    "code_folding": [],
    "hidden": true
   },
   "outputs": [],
   "source": [
    "def rmsle (ytrue,ypred):\n",
    "    return np.sqrt(mean_squared_log_error(ytrue,ypred))\n"
   ]
  },
  {
   "cell_type": "code",
   "execution_count": 220,
   "metadata": {
    "ExecuteTime": {
     "end_time": "2020-02-05T05:07:45.337897Z",
     "start_time": "2020-02-05T05:07:45.278254Z"
    },
    "code_folding": [],
    "hidden": true
   },
   "outputs": [
    {
     "name": "stdout",
     "output_type": "stream",
     "text": [
      "Week 92 - Error 0.86043\n",
      "Week 93 - Error 0.68751\n",
      "Week 94 - Error 0.68956\n",
      "Week 95 - Error 0.79837\n",
      "Week 96 - Error 0.78220\n",
      "Week 97 - Error 0.86472\n",
      "Week 98 - Error 0.73761\n",
      "Week 99 - Error 0.75886\n",
      "Week 100 - Error 0.84305\n",
      "Week 101 - Error 0.93477\n",
      "Week 102 - Error 0.96663\n",
      "Week 103 - Error 0.84719\n",
      "Mean Error = 0.81424\n"
     ]
    }
   ],
   "source": [
    "mean_error = []\n",
    "for week in range(92,104):                #31/12/2019 - 12 semanas\n",
    "    train = melt2[melt2['Week'] < week]\n",
    "    val = melt2[melt2['Week'] == week]\n",
    "    \n",
    "    p = val['VendasLastWeek'].values\n",
    "    \n",
    "    error = rmsle(val['Vendas'].values, p)\n",
    "    print('Week %d - Error %.5f' % (week, error))\n",
    "    mean_error.append(error)\n",
    "print('Mean Error = %.5f' % np.mean(mean_error))"
   ]
  },
  {
   "cell_type": "code",
   "execution_count": 232,
   "metadata": {
    "ExecuteTime": {
     "end_time": "2020-02-05T05:14:46.806519Z",
     "start_time": "2020-02-05T05:14:46.513681Z"
    },
    "hidden": true
   },
   "outputs": [
    {
     "data": {
      "text/plain": [
       "[<matplotlib.lines.Line2D at 0x16d00cb10>]"
      ]
     },
     "execution_count": 232,
     "metadata": {},
     "output_type": "execute_result"
    },
    {
     "data": {
      "image/png": "[encoded data removed]",
      "text/plain": [
       "<Figure size 1152x576 with 1 Axes>"
      ]
     },
     "metadata": {
      "needs_background": "light"
     },
     "output_type": "display_data"
    }
   ],
   "source": [
    "xt = melt2.Week\n",
    "yt = melt2.Vendas\n",
    "yp = melt2.VendasLastWeek\n",
    "\n",
    "plt.plot('Week','Vendas', data = melt2)\n",
    "plt.plot('Week','VendasLastWeek',data = melt2)"
   ]
  },
  {
   "cell_type": "code",
   "execution_count": 171,
   "metadata": {
    "ExecuteTime": {
     "end_time": "2020-02-05T04:27:46.578858Z",
     "start_time": "2020-02-05T04:27:46.270730Z"
    },
    "hidden": true
   },
   "outputs": [
    {
     "data": {
      "text/plain": [
       "(0, 100)"
      ]
     },
     "execution_count": 171,
     "metadata": {},
     "output_type": "execute_result"
    },
    {
     "data": {
      "image/png": "[encoded data removed]",
      "text/plain": [
       "<Figure size 720x360 with 1 Axes>"
      ]
     },
     "metadata": {
      "needs_background": "light"
     },
     "output_type": "display_data"
    }
   ],
   "source": [
    "melt2['Vendas'].hist(bins=20, figsize=(10,5))\n",
    "plt.xlim([0,100])"
   ]
  },
  {
   "cell_type": "markdown",
   "metadata": {
    "heading_collapsed": true
   },
   "source": [
    "# MODELO 1: RANDOM FOREST REGRESSOR \n",
    "RMSLE = 0,77702.  Melhorou em comparação à Baseline"
   ]
  },
  {
   "cell_type": "code",
   "execution_count": 237,
   "metadata": {
    "ExecuteTime": {
     "end_time": "2020-02-05T05:25:49.047603Z",
     "start_time": "2020-02-05T05:23:52.740931Z"
    },
    "hidden": true
   },
   "outputs": [
    {
     "name": "stdout",
     "output_type": "stream",
     "text": [
      "Week 92 - Error 0.89310\n",
      "Week 93 - Error 0.72495\n",
      "Week 94 - Error 0.67281\n",
      "Week 95 - Error 0.75796\n",
      "Week 96 - Error 0.75611\n",
      "Week 97 - Error 0.78214\n",
      "Week 98 - Error 0.65727\n",
      "Week 99 - Error 0.77448\n",
      "Week 100 - Error 0.79302\n",
      "Week 101 - Error 0.76018\n",
      "Week 102 - Error 0.85548\n",
      "Week 103 - Error 0.89678\n",
      "Mean Error = 0.77702\n"
     ]
    }
   ],
   "source": [
    "mean_error = []\n",
    "for week in range(92,104):\n",
    "    train = melt2[melt2['Week'] < week]\n",
    "    val = melt2[melt2['Week'] == week]\n",
    "    \n",
    "    xtr, xts = train.drop(['Vendas'], axis=1), val.drop(['Vendas'], axis=1)\n",
    "    ytr, yts = train['Vendas'].values, val['Vendas'].values\n",
    "    \n",
    "    mdl = RandomForestRegressor(n_estimators=500, n_jobs=-1, random_state=0)\n",
    "    mdl.fit(xtr, ytr)\n",
    "    \n",
    "    p = mdl.predict(xts)\n",
    "    \n",
    "    error = rmsle(yts, p)\n",
    "    print('Week %d - Error %.5f' % (week, error))\n",
    "    mean_error.append(error)\n",
    "print('Mean Error = %.5f' % np.mean(mean_error))"
   ]
  },
  {
   "cell_type": "code",
   "execution_count": null,
   "metadata": {
    "hidden": true
   },
   "outputs": [],
   "source": []
  },
  {
   "cell_type": "markdown",
   "metadata": {
    "heading_collapsed": true
   },
   "source": [
    "# FEATURE ENGINEER 2: Lag(1) + Diff(1)   |   MODELO 2: RFR\n",
    "RMSLE = 0.77511. Redução insignificante em relação ao modelo anterior"
   ]
  },
  {
   "cell_type": "code",
   "execution_count": 113,
   "metadata": {
    "ExecuteTime": {
     "end_time": "2020-02-05T02:22:05.390420Z",
     "start_time": "2020-02-05T02:22:05.119103Z"
    },
    "hidden": true
   },
   "outputs": [
    {
     "data": {
      "text/html": [
       "<div>\n",
       "<style scoped>\n",
       "    .dataframe tbody tr th:only-of-type {\n",
       "        vertical-align: middle;\n",
       "    }\n",
       "\n",
       "    .dataframe tbody tr th {\n",
       "        vertical-align: top;\n",
       "    }\n",
       "\n",
       "    .dataframe thead th {\n",
       "        text-align: right;\n",
       "    }\n",
       "</style>\n",
       "<table border=\"1\" class=\"dataframe\">\n",
       "  <thead>\n",
       "    <tr style=\"text-align: right;\">\n",
       "      <th></th>\n",
       "      <th>Codigo</th>\n",
       "      <th>Week</th>\n",
       "      <th>Vendas</th>\n",
       "      <th>VendasLastWeek</th>\n",
       "      <th>VendasLastWeek_Diff</th>\n",
       "      <th>VendasLastWeek-1</th>\n",
       "      <th>VendasLastWeek-1_Diff</th>\n",
       "    </tr>\n",
       "  </thead>\n",
       "  <tbody>\n",
       "    <tr>\n",
       "      <td>573</td>\n",
       "      <td>1</td>\n",
       "      <td>100</td>\n",
       "      <td>10</td>\n",
       "      <td>0.0</td>\n",
       "      <td>0.0</td>\n",
       "      <td>0.0</td>\n",
       "      <td>0.0</td>\n",
       "    </tr>\n",
       "    <tr>\n",
       "      <td>574</td>\n",
       "      <td>2</td>\n",
       "      <td>100</td>\n",
       "      <td>8</td>\n",
       "      <td>0.0</td>\n",
       "      <td>0.0</td>\n",
       "      <td>0.0</td>\n",
       "      <td>0.0</td>\n",
       "    </tr>\n",
       "    <tr>\n",
       "      <td>575</td>\n",
       "      <td>3</td>\n",
       "      <td>100</td>\n",
       "      <td>0</td>\n",
       "      <td>0.0</td>\n",
       "      <td>0.0</td>\n",
       "      <td>0.0</td>\n",
       "      <td>0.0</td>\n",
       "    </tr>\n",
       "    <tr>\n",
       "      <td>576</td>\n",
       "      <td>4</td>\n",
       "      <td>100</td>\n",
       "      <td>0</td>\n",
       "      <td>0.0</td>\n",
       "      <td>0.0</td>\n",
       "      <td>0.0</td>\n",
       "      <td>0.0</td>\n",
       "    </tr>\n",
       "    <tr>\n",
       "      <td>577</td>\n",
       "      <td>5</td>\n",
       "      <td>100</td>\n",
       "      <td>25</td>\n",
       "      <td>12.0</td>\n",
       "      <td>12.0</td>\n",
       "      <td>0.0</td>\n",
       "      <td>0.0</td>\n",
       "    </tr>\n",
       "  </tbody>\n",
       "</table>\n",
       "</div>"
      ],
      "text/plain": [
       "     Codigo  Week  Vendas  VendasLastWeek  VendasLastWeek_Diff  \\\n",
       "573       1   100      10             0.0                  0.0   \n",
       "574       2   100       8             0.0                  0.0   \n",
       "575       3   100       0             0.0                  0.0   \n",
       "576       4   100       0             0.0                  0.0   \n",
       "577       5   100      25            12.0                 12.0   \n",
       "\n",
       "     VendasLastWeek-1  VendasLastWeek-1_Diff  \n",
       "573               0.0                    0.0  \n",
       "574               0.0                    0.0  \n",
       "575               0.0                    0.0  \n",
       "576               0.0                    0.0  \n",
       "577               0.0                    0.0  "
      ]
     },
     "execution_count": 113,
     "metadata": {},
     "output_type": "execute_result"
    }
   ],
   "source": [
    "melt3 = melt.copy()\n",
    "melt3['VendasLastWeek'] = melt3.groupby(['Codigo'])['Vendas'].shift()\n",
    "melt3['VendasLastWeek_Diff'] = melt3.groupby(['Codigo'])['VendasLastWeek'].diff()\n",
    "melt3['VendasLastWeek-1'] = melt3.groupby(['Codigo'])['Vendas'].shift(2)\n",
    "melt3['VendasLastWeek-1_Diff'] = melt3.groupby(['Codigo'])['VendasLastWeek-1'].diff()\n",
    "melt3 = melt3.dropna()\n",
    "melt3.head()"
   ]
  },
  {
   "cell_type": "code",
   "execution_count": 239,
   "metadata": {
    "ExecuteTime": {
     "end_time": "2020-02-05T05:28:56.807931Z",
     "start_time": "2020-02-05T05:27:02.222846Z"
    },
    "hidden": true
   },
   "outputs": [
    {
     "name": "stdout",
     "output_type": "stream",
     "text": [
      "Week 92 - Error 0.86149\n",
      "Week 93 - Error 0.74593\n",
      "Week 94 - Error 0.71192\n",
      "Week 95 - Error 0.77525\n",
      "Week 96 - Error 0.68809\n",
      "Week 97 - Error 0.81763\n",
      "Week 98 - Error 0.70424\n",
      "Week 99 - Error 0.73001\n",
      "Week 100 - Error 0.80544\n",
      "Week 101 - Error 0.75848\n",
      "Week 102 - Error 0.88064\n",
      "Week 103 - Error 0.82215\n",
      "Mean Error = 0.77511\n"
     ]
    }
   ],
   "source": [
    "mean_error = []\n",
    "for week in range(92,104):\n",
    "    train = melt3[melt3['Week'] < week]\n",
    "    val = melt3[melt3['Week'] == week]\n",
    "    \n",
    "    xtr, xts = train.drop(['Vendas'], axis=1), val.drop(['Vendas'], axis=1)\n",
    "    ytr, yts = train['Vendas'].values, val['Vendas'].values\n",
    "    \n",
    "    mdl = RandomForestRegressor(n_estimators=500, n_jobs=-1, random_state=0)\n",
    "    mdl.fit(xtr, ytr)\n",
    "    \n",
    "    p = mdl.predict(xts)\n",
    "    \n",
    "    error = rmsle(yts, p)\n",
    "    print('Week %d - Error %.5f' % (week, error))\n",
    "    mean_error.append(error)\n",
    "print('Mean Error = %.5f' % np.mean(mean_error))"
   ]
  },
  {
   "cell_type": "markdown",
   "metadata": {
    "heading_collapsed": true
   },
   "source": [
    "# FEATURE ENGINEER 3: Lag(2) + Diff(2) | MODELO 2: RFR\n",
    "RMSLE = 0.77082. Sem alteração significativa..."
   ]
  },
  {
   "cell_type": "code",
   "execution_count": 240,
   "metadata": {
    "ExecuteTime": {
     "end_time": "2020-02-05T05:29:56.455930Z",
     "start_time": "2020-02-05T05:29:56.238750Z"
    },
    "hidden": true
   },
   "outputs": [
    {
     "data": {
      "text/html": [
       "<div>\n",
       "<style scoped>\n",
       "    .dataframe tbody tr th:only-of-type {\n",
       "        vertical-align: middle;\n",
       "    }\n",
       "\n",
       "    .dataframe tbody tr th {\n",
       "        vertical-align: top;\n",
       "    }\n",
       "\n",
       "    .dataframe thead th {\n",
       "        text-align: right;\n",
       "    }\n",
       "</style>\n",
       "<table border=\"1\" class=\"dataframe\">\n",
       "  <thead>\n",
       "    <tr style=\"text-align: right;\">\n",
       "      <th></th>\n",
       "      <th>Codigo</th>\n",
       "      <th>Week</th>\n",
       "      <th>Vendas</th>\n",
       "      <th>VendasLastWeek</th>\n",
       "      <th>VendasLastWeek_Diff</th>\n",
       "      <th>VendasLastWeek-1</th>\n",
       "      <th>VendasLastWeek-1_Diff</th>\n",
       "      <th>VendasLastWeek-2</th>\n",
       "      <th>VendasLastWeek-2_Diff</th>\n",
       "    </tr>\n",
       "  </thead>\n",
       "  <tbody>\n",
       "    <tr>\n",
       "      <td>764</td>\n",
       "      <td>1</td>\n",
       "      <td>101</td>\n",
       "      <td>8</td>\n",
       "      <td>10.0</td>\n",
       "      <td>10.0</td>\n",
       "      <td>0.0</td>\n",
       "      <td>0.0</td>\n",
       "      <td>0.0</td>\n",
       "      <td>0.0</td>\n",
       "    </tr>\n",
       "    <tr>\n",
       "      <td>765</td>\n",
       "      <td>2</td>\n",
       "      <td>101</td>\n",
       "      <td>2</td>\n",
       "      <td>8.0</td>\n",
       "      <td>8.0</td>\n",
       "      <td>0.0</td>\n",
       "      <td>0.0</td>\n",
       "      <td>0.0</td>\n",
       "      <td>0.0</td>\n",
       "    </tr>\n",
       "    <tr>\n",
       "      <td>766</td>\n",
       "      <td>3</td>\n",
       "      <td>101</td>\n",
       "      <td>0</td>\n",
       "      <td>0.0</td>\n",
       "      <td>0.0</td>\n",
       "      <td>0.0</td>\n",
       "      <td>0.0</td>\n",
       "      <td>0.0</td>\n",
       "      <td>0.0</td>\n",
       "    </tr>\n",
       "    <tr>\n",
       "      <td>767</td>\n",
       "      <td>4</td>\n",
       "      <td>101</td>\n",
       "      <td>0</td>\n",
       "      <td>0.0</td>\n",
       "      <td>0.0</td>\n",
       "      <td>0.0</td>\n",
       "      <td>0.0</td>\n",
       "      <td>0.0</td>\n",
       "      <td>0.0</td>\n",
       "    </tr>\n",
       "    <tr>\n",
       "      <td>768</td>\n",
       "      <td>5</td>\n",
       "      <td>101</td>\n",
       "      <td>30</td>\n",
       "      <td>25.0</td>\n",
       "      <td>13.0</td>\n",
       "      <td>12.0</td>\n",
       "      <td>12.0</td>\n",
       "      <td>0.0</td>\n",
       "      <td>0.0</td>\n",
       "    </tr>\n",
       "  </tbody>\n",
       "</table>\n",
       "</div>"
      ],
      "text/plain": [
       "     Codigo  Week  Vendas  VendasLastWeek  VendasLastWeek_Diff  \\\n",
       "764       1   101       8            10.0                 10.0   \n",
       "765       2   101       2             8.0                  8.0   \n",
       "766       3   101       0             0.0                  0.0   \n",
       "767       4   101       0             0.0                  0.0   \n",
       "768       5   101      30            25.0                 13.0   \n",
       "\n",
       "     VendasLastWeek-1  VendasLastWeek-1_Diff  VendasLastWeek-2  \\\n",
       "764               0.0                    0.0               0.0   \n",
       "765               0.0                    0.0               0.0   \n",
       "766               0.0                    0.0               0.0   \n",
       "767               0.0                    0.0               0.0   \n",
       "768              12.0                   12.0               0.0   \n",
       "\n",
       "     VendasLastWeek-2_Diff  \n",
       "764                    0.0  \n",
       "765                    0.0  \n",
       "766                    0.0  \n",
       "767                    0.0  \n",
       "768                    0.0  "
      ]
     },
     "execution_count": 240,
     "metadata": {},
     "output_type": "execute_result"
    }
   ],
   "source": [
    "melt4 = melt.copy()\n",
    "melt4['VendasLastWeek'] = melt4.groupby(['Codigo'])['Vendas'].shift()\n",
    "melt4['VendasLastWeek_Diff'] = melt4.groupby(['Codigo'])['VendasLastWeek'].diff()\n",
    "melt4['VendasLastWeek-1'] = melt4.groupby(['Codigo'])['Vendas'].shift(2)\n",
    "melt4['VendasLastWeek-1_Diff'] = melt4.groupby(['Codigo'])['VendasLastWeek-1'].diff()\n",
    "melt4['VendasLastWeek-2'] = melt4.groupby(['Codigo'])['Vendas'].shift(3)\n",
    "melt4['VendasLastWeek-2_Diff'] = melt4.groupby(['Codigo'])['VendasLastWeek-2'].diff()\n",
    "melt4 = melt4.dropna()\n",
    "melt4.head()"
   ]
  },
  {
   "cell_type": "code",
   "execution_count": 242,
   "metadata": {
    "ExecuteTime": {
     "end_time": "2020-02-05T05:33:57.581984Z",
     "start_time": "2020-02-05T05:32:25.322889Z"
    },
    "hidden": true
   },
   "outputs": [
    {
     "name": "stdout",
     "output_type": "stream",
     "text": [
      "Week 92 - Error 0.89493\n",
      "Week 93 - Error 0.79269\n",
      "Week 94 - Error 0.70625\n",
      "Week 95 - Error 0.76175\n",
      "Week 96 - Error 0.70797\n",
      "Week 97 - Error 0.83033\n",
      "Week 98 - Error 0.72816\n",
      "Week 99 - Error 0.74448\n",
      "Mean Error = 0.77082\n"
     ]
    }
   ],
   "source": [
    "mean_error = []\n",
    "for week in range(92,100):\n",
    "    train = melt4[melt4['Week'] < week]\n",
    "    val = melt4[melt4['Week'] == week]\n",
    "    \n",
    "    xtr, xts = train.drop(['Vendas'], axis=1), val.drop(['Vendas'], axis=1)\n",
    "    ytr, yts = train['Vendas'].values, val['Vendas'].values\n",
    "    \n",
    "    mdl = RandomForestRegressor(n_estimators=500, n_jobs=-1, random_state=0)\n",
    "    mdl.fit(xtr, ytr)\n",
    "    \n",
    "    p = mdl.predict(xts)\n",
    "    \n",
    "    error = rmsle(yts, p)\n",
    "    print('Week %d - Error %.5f' % (week, error))\n",
    "    mean_error.append(error)\n",
    "print('Mean Error = %.5f' % np.mean(mean_error))"
   ]
  },
  {
   "cell_type": "markdown",
   "metadata": {
    "heading_collapsed": true
   },
   "source": [
    "# APLICANDO LOG NA VARIÁVEL TARGET\n",
    "\n",
    "RMSLE = 0.66903  - Melhora significativa em comparação ao modelo anterior\n",
    "\n",
    "By taking the log of the target we get the added bonus that its distribution will look closer to a normal distribution. This usually helps the model learn better."
   ]
  },
  {
   "cell_type": "code",
   "execution_count": 244,
   "metadata": {
    "ExecuteTime": {
     "end_time": "2020-02-05T05:39:36.389383Z",
     "start_time": "2020-02-05T05:38:03.060786Z"
    },
    "hidden": true
   },
   "outputs": [
    {
     "name": "stdout",
     "output_type": "stream",
     "text": [
      "Week 92 - Error 0.60774\n",
      "Week 93 - Error 0.57557\n",
      "Week 94 - Error 0.56604\n",
      "Week 95 - Error 0.62219\n",
      "Week 96 - Error 0.63319\n",
      "Week 97 - Error 0.68753\n",
      "Week 98 - Error 0.57334\n",
      "Week 99 - Error 0.67948\n",
      "Mean Error = 0.66903\n"
     ]
    }
   ],
   "source": [
    "for week in range(92,100):\n",
    "    train = melt4[melt4['Week'] < week]\n",
    "    val = melt4[melt4['Week'] == week]\n",
    "    \n",
    "    xtr, xts = train.drop(['Vendas'], axis=1), val.drop(['Vendas'], axis=1)\n",
    "    ytr, yts = train['Vendas'].values, val['Vendas'].values\n",
    "    \n",
    "    mdl = RandomForestRegressor(n_estimators=500, n_jobs=-1, random_state=0)\n",
    "    mdl.fit(xtr, np.log1p(ytr))\n",
    "    \n",
    "    p = np.expm1(mdl.predict(xts))\n",
    "    \n",
    "    error = rmsle(yts, p)\n",
    "    print('Week %d - Error %.5f' % (week, error))\n",
    "    mean_error.append(error)\n",
    "print('Mean Error = %.5f' % np.mean(mean_error))"
   ]
  },
  {
   "cell_type": "code",
   "execution_count": 248,
   "metadata": {
    "ExecuteTime": {
     "end_time": "2020-02-05T05:42:59.092118Z",
     "start_time": "2020-02-05T05:42:58.814289Z"
    },
    "hidden": true
   },
   "outputs": [
    {
     "data": {
      "text/plain": [
       "<matplotlib.axes._subplots.AxesSubplot at 0x12eb32a50>"
      ]
     },
     "execution_count": 248,
     "metadata": {},
     "output_type": "execute_result"
    },
    {
     "data": {
      "image/png": "[encoded data removed]",
      "text/plain": [
       "<Figure size 720x720 with 1 Axes>"
      ]
     },
     "metadata": {
      "needs_background": "light"
     },
     "output_type": "display_data"
    }
   ],
   "source": [
    "val.loc[:, 'Prediction'] = np.round(p)\n",
    "val.plot.scatter(x='Prediction', y='Vendas', figsize=(10,10), title='Prediction vs Vendas', \n",
    "                 ylim=(0,25), xlim=(0,25))"
   ]
  },
  {
   "cell_type": "markdown",
   "metadata": {
    "heading_collapsed": true
   },
   "source": [
    "# TUNING DE HIPER PARAMETROS DA RFR\n",
    "RMSLE = 0.65627 - Melhora razoável em comparação ao modelo anterior"
   ]
  },
  {
   "cell_type": "markdown",
   "metadata": {
    "hidden": true
   },
   "source": [
    "## n_estimators = 1000\n",
    "RMSLE = 0.65627 - Melhora significativa em comparação ao modelo anterior"
   ]
  },
  {
   "cell_type": "code",
   "execution_count": 249,
   "metadata": {
    "ExecuteTime": {
     "end_time": "2020-02-05T05:46:53.185514Z",
     "start_time": "2020-02-05T05:43:59.317994Z"
    },
    "hidden": true
   },
   "outputs": [
    {
     "name": "stdout",
     "output_type": "stream",
     "text": [
      "Week 92 - Error 0.61075\n",
      "Week 93 - Error 0.57596\n",
      "Week 94 - Error 0.56563\n",
      "Week 95 - Error 0.62286\n",
      "Week 96 - Error 0.63351\n",
      "Week 97 - Error 0.68452\n",
      "Week 98 - Error 0.57227\n",
      "Week 99 - Error 0.67856\n",
      "Mean Error = 0.65627\n"
     ]
    }
   ],
   "source": [
    "for week in range(92,100):\n",
    "    train = melt4[melt4['Week'] < week]\n",
    "    val = melt4[melt4['Week'] == week]\n",
    "    \n",
    "    xtr, xts = train.drop(['Vendas'], axis=1), val.drop(['Vendas'], axis=1)\n",
    "    ytr, yts = train['Vendas'].values, val['Vendas'].values\n",
    "    \n",
    "    mdl = RandomForestRegressor(n_estimators=1000, n_jobs=-1, random_state=0)\n",
    "    mdl.fit(xtr, np.log1p(ytr))\n",
    "    \n",
    "    p = np.expm1(mdl.predict(xts))\n",
    "    \n",
    "    error = rmsle(yts, p)\n",
    "    print('Week %d - Error %.5f' % (week, error))\n",
    "    mean_error.append(error)\n",
    "print('Mean Error = %.5f' % np.mean(mean_error))"
   ]
  },
  {
   "cell_type": "code",
   "execution_count": 251,
   "metadata": {
    "ExecuteTime": {
     "end_time": "2020-02-05T05:49:56.677268Z",
     "start_time": "2020-02-05T05:49:56.419200Z"
    },
    "hidden": true
   },
   "outputs": [
    {
     "data": {
      "text/plain": [
       "<matplotlib.axes._subplots.AxesSubplot at 0x12e14d050>"
      ]
     },
     "execution_count": 251,
     "metadata": {},
     "output_type": "execute_result"
    },
    {
     "data": {
      "image/png": "[encoded data removed]",
      "text/plain": [
       "<Figure size 720x720 with 1 Axes>"
      ]
     },
     "metadata": {
      "needs_background": "light"
     },
     "output_type": "display_data"
    }
   ],
   "source": [
    "val.loc[:, 'Prediction'] = np.round(p)\n",
    "val.plot.scatter(x='Prediction', y='Vendas', figsize=(10,10), title='Prediction vs Vendas', \n",
    "                 ylim=(0,25), xlim=(0,25))"
   ]
  },
  {
   "cell_type": "markdown",
   "metadata": {
    "heading_collapsed": true
   },
   "source": [
    "# FEATURE IMPORTANCE - RANDOM FOREST REGRESSOR"
   ]
  },
  {
   "cell_type": "code",
   "execution_count": 252,
   "metadata": {
    "ExecuteTime": {
     "end_time": "2020-02-05T05:50:49.400084Z",
     "start_time": "2020-02-05T05:50:49.177193Z"
    },
    "hidden": true
   },
   "outputs": [
    {
     "data": {
      "text/html": [
       "<div>\n",
       "<style scoped>\n",
       "    .dataframe tbody tr th:only-of-type {\n",
       "        vertical-align: middle;\n",
       "    }\n",
       "\n",
       "    .dataframe tbody tr th {\n",
       "        vertical-align: top;\n",
       "    }\n",
       "\n",
       "    .dataframe thead th {\n",
       "        text-align: right;\n",
       "    }\n",
       "</style>\n",
       "<table border=\"1\" class=\"dataframe\">\n",
       "  <thead>\n",
       "    <tr style=\"text-align: right;\">\n",
       "      <th></th>\n",
       "      <th>importance</th>\n",
       "    </tr>\n",
       "  </thead>\n",
       "  <tbody>\n",
       "    <tr>\n",
       "      <td>Codigo</td>\n",
       "      <td>0.388184</td>\n",
       "    </tr>\n",
       "    <tr>\n",
       "      <td>Week</td>\n",
       "      <td>0.308871</td>\n",
       "    </tr>\n",
       "    <tr>\n",
       "      <td>VendasLastWeek-2_Diff</td>\n",
       "      <td>0.081361</td>\n",
       "    </tr>\n",
       "    <tr>\n",
       "      <td>VendasLastWeek_Diff</td>\n",
       "      <td>0.056932</td>\n",
       "    </tr>\n",
       "    <tr>\n",
       "      <td>VendasLastWeek-1_Diff</td>\n",
       "      <td>0.048567</td>\n",
       "    </tr>\n",
       "    <tr>\n",
       "      <td>VendasLastWeek</td>\n",
       "      <td>0.043170</td>\n",
       "    </tr>\n",
       "    <tr>\n",
       "      <td>VendasLastWeek-2</td>\n",
       "      <td>0.041869</td>\n",
       "    </tr>\n",
       "    <tr>\n",
       "      <td>VendasLastWeek-1</td>\n",
       "      <td>0.031047</td>\n",
       "    </tr>\n",
       "  </tbody>\n",
       "</table>\n",
       "</div>"
      ],
      "text/plain": [
       "                       importance\n",
       "Codigo                   0.388184\n",
       "Week                     0.308871\n",
       "VendasLastWeek-2_Diff    0.081361\n",
       "VendasLastWeek_Diff      0.056932\n",
       "VendasLastWeek-1_Diff    0.048567\n",
       "VendasLastWeek           0.043170\n",
       "VendasLastWeek-2         0.041869\n",
       "VendasLastWeek-1         0.031047"
      ]
     },
     "execution_count": 252,
     "metadata": {},
     "output_type": "execute_result"
    }
   ],
   "source": [
    "import pandas as pd\n",
    "feature_importances = pd.DataFrame(mdl.feature_importances_,\n",
    "                           index = xtr.columns,\n",
    "                           columns=['importance']).sort_values('importance',ascending=False)\n",
    "feature_importances"
   ]
  },
  {
   "cell_type": "markdown",
   "metadata": {},
   "source": [
    "# MODELO LGBM\n",
    "RMSLE = 0.65746. Sem alteração significativa..."
   ]
  },
  {
   "cell_type": "code",
   "execution_count": 258,
   "metadata": {
    "ExecuteTime": {
     "end_time": "2020-02-05T05:55:12.804234Z",
     "start_time": "2020-02-05T05:55:03.558076Z"
    }
   },
   "outputs": [
    {
     "name": "stdout",
     "output_type": "stream",
     "text": [
      "Week 82 - Error 0.73021\n",
      "Week 83 - Error 0.67316\n",
      "Week 84 - Error 0.66676\n",
      "Week 85 - Error 0.59043\n",
      "Week 86 - Error 0.64082\n",
      "Week 87 - Error 0.75972\n",
      "Week 88 - Error 0.57150\n",
      "Week 89 - Error 0.80329\n",
      "Week 90 - Error 0.73456\n",
      "Week 91 - Error 0.70161\n",
      "Week 92 - Error 0.51688\n",
      "Week 93 - Error 0.50054\n",
      "Mean Error = 0.65746\n"
     ]
    }
   ],
   "source": [
    "mean_error = []\n",
    "for week in range(82,94):\n",
    "    train = melt4[melt4['Week'] < week]\n",
    "    val = melt4[melt4['Week'] == week]\n",
    "    \n",
    "    xtr, xts = train.drop(['Vendas'], axis=1), val.drop(['Vendas'], axis=1)\n",
    "    ytr, yts = train['Vendas'].values, val['Vendas'].values\n",
    "    \n",
    "    mdl = LGBMRegressor(n_estimators=500, learning_rate=0.01)\n",
    "    mdl.fit(xtr, np.log1p(ytr))\n",
    "    \n",
    "    p = np.expm1(mdl.predict(xts))\n",
    "    \n",
    "    error = rmsle(yts, p)\n",
    "    print('Week %d - Error %.5f' % (week, error))\n",
    "    mean_error.append(error)\n",
    "print('Mean Error = %.5f' % np.mean(mean_error))"
   ]
  },
  {
   "cell_type": "code",
   "execution_count": 260,
   "metadata": {
    "ExecuteTime": {
     "end_time": "2020-02-05T05:56:22.445940Z",
     "start_time": "2020-02-05T05:56:22.171002Z"
    }
   },
   "outputs": [
    {
     "data": {
      "text/plain": [
       "<matplotlib.axes._subplots.AxesSubplot at 0x171d2bf10>"
      ]
     },
     "execution_count": 260,
     "metadata": {},
     "output_type": "execute_result"
    },
    {
     "data": {
      "image/png": "[encoded data removed]",
      "text/plain": [
       "<Figure size 720x720 with 1 Axes>"
      ]
     },
     "metadata": {
      "needs_background": "light"
     },
     "output_type": "display_data"
    }
   ],
   "source": [
    "val.loc[:, 'Prediction'] = np.round(p)\n",
    "val.plot.scatter(x='Prediction', y='Vendas', figsize=(10,10), title='Prediction vs Vendas', \n",
    "                 ylim=(0,15), xlim=(0,15))"
   ]
  }
 ],
 "metadata": {
  "hide_input": false,
  "kernelspec": {
   "display_name": "Python 3",
   "language": "python",
   "name": "python3"
  },
  "language_info": {
   "codemirror_mode": {
    "name": "ipython",
    "version": 3
   },
   "file_extension": ".py",
   "mimetype": "text/x-python",
   "name": "python",
   "nbconvert_exporter": "python",
   "pygments_lexer": "ipython3",
   "version": "3.7.4"
  },
  "toc": {
   "base_numbering": 1,
   "nav_menu": {},
   "number_sections": true,
   "sideBar": true,
   "skip_h1_title": false,
   "title_cell": "Table of Contents",
   "title_sidebar": "Contents",
   "toc_cell": false,
   "toc_position": {},
   "toc_section_display": true,
   "toc_window_display": false
  }
 },
 "nbformat": 4,
 "nbformat_minor": 4
}
